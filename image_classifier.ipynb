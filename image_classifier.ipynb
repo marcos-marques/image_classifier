{
 "cells": [
  {
   "cell_type": "markdown",
   "metadata": {
    "colab_type": "text",
    "id": "_8HFLH8QE_P3"
   },
   "source": [
    "# Image Classifier\n",
    "\n",
    "\n",
    "\n",
    "---\n",
    "\n",
    "\n",
    "Rede CNN com 4 camadas pra classificação de imagens.\n",
    "\n",
    "Para versões do Keras >= 2 não utilizar padding='same' para strides != 1. De acordo com a documentação do Keras é incompatível. [ver aqui](https://keras.io/layers/convolutional/)\n",
    "\n",
    "---\n",
    "\n",
    "Para treinamento com classes binárias alterar os seguintes parâmetros:\n",
    "\n",
    "* loss='categorical_crossentropy' para loss='binary_crossentropy'\n",
    "* class_mode=\"categorical\" para class_mode=\"binary\"\n",
    "* Na última \"Dense\" alterar o número de valores de saída pra \"1\", se for categorical deve ser o número de categorias possíveis\n",
    "\n"
   ]
  },
  {
   "cell_type": "markdown",
   "metadata": {
    "colab_type": "text",
    "id": "mFEGnXk-WH95"
   },
   "source": [
    "### Verificando configurações do TensorFlow"
   ]
  },
  {
   "cell_type": "code",
   "execution_count": null,
   "metadata": {
    "colab": {
     "base_uri": "https://localhost:8080/",
     "height": 34
    },
    "colab_type": "code",
    "executionInfo": {
     "elapsed": 898,
     "status": "ok",
     "timestamp": 1566562642682,
     "user": {
      "displayName": "Marcos Marques",
      "photoUrl": "https://lh3.googleusercontent.com/a-/AAuE7mCurBzsOLZIJTfDgjKRz23yxar61U0sHo4Rfj-oMA=s64",
      "userId": "13824221139819146299"
     },
     "user_tz": 180
    },
    "id": "aSRfsVYvLnmD",
    "outputId": "7f4bee2b-2330-4848-caa3-24453886f2c4"
   },
   "outputs": [],
   "source": [
    "# Checando a versão do Tensorflow\n",
    "import tensorflow\n",
    "tensorflow.__version__"
   ]
  },
  {
   "cell_type": "code",
   "execution_count": null,
   "metadata": {
    "colab": {
     "base_uri": "https://localhost:8080/",
     "height": 476
    },
    "colab_type": "code",
    "executionInfo": {
     "elapsed": 2726,
     "status": "ok",
     "timestamp": 1566562646810,
     "user": {
      "displayName": "Marcos Marques",
      "photoUrl": "https://lh3.googleusercontent.com/a-/AAuE7mCurBzsOLZIJTfDgjKRz23yxar61U0sHo4Rfj-oMA=s64",
      "userId": "13824221139819146299"
     },
     "user_tz": 180
    },
    "id": "pCuOolc7MP1N",
    "outputId": "5b5f3438-8168-4614-a95d-4ff913941012"
   },
   "outputs": [],
   "source": [
    "# Verificando o funcionamento da GPU\n",
    "from tensorflow.python.client import device_lib\n",
    "device_lib.list_local_devices()"
   ]
  },
  {
   "cell_type": "markdown",
   "metadata": {
    "colab_type": "text",
    "id": "ruFcYiN3XFKm"
   },
   "source": [
    "### Instando bibliotecas faltantes (uso do colab)"
   ]
  },
  {
   "cell_type": "code",
   "execution_count": null,
   "metadata": {
    "colab": {},
    "colab_type": "code",
    "id": "TsZxlFDmGoOM"
   },
   "outputs": [],
   "source": [
    "# Instalando biblioteca para plotar gráfico durante o treinamento\n",
    "!pip install livelossplot\n",
    "from livelossplot import PlotLossesKeras"
   ]
  },
  {
   "cell_type": "markdown",
   "metadata": {
    "colab_type": "text",
    "id": "GOxmQHgLWlOI"
   },
   "source": [
    "### Variáveis para outup do treino"
   ]
  },
  {
   "cell_type": "code",
   "execution_count": null,
   "metadata": {
    "colab": {},
    "colab_type": "code",
    "id": "46Ni4f6hE-R_"
   },
   "outputs": [],
   "source": [
    "# Declarando variáveis para registros de saída\n",
    "MODEL_SUMMARY_FILE = \"model_summary_v1.txt\"\n",
    "TRAINING_LOGS_FILE = \"training_logs_v1.csv\"\n",
    "MODEL_FILE = \"model_three_categories_v1.h5\""
   ]
  },
  {
   "cell_type": "markdown",
   "metadata": {
    "colab_type": "text",
    "id": "Wp1uzHlYXPzP"
   },
   "source": [
    "### Importando bibliotecas"
   ]
  },
  {
   "cell_type": "code",
   "execution_count": null,
   "metadata": {
    "colab": {},
    "colab_type": "code",
    "id": "qmGb7Hf9Exlr"
   },
   "outputs": [],
   "source": [
    "# Importando bibiotecas necessárias\n",
    "%matplotlib inline\n",
    "import matplotlib.pyplot as plt\n",
    "import matplotlib.image as mpimg\n",
    "from keras.preprocessing.image import ImageDataGenerator\n",
    "from keras.models import Sequential\n",
    "from keras.optimizers import RMSprop\n",
    "from keras.layers import Conv2D, MaxPooling2D\n",
    "from keras.layers import Activation, Dropout, Flatten, Dense\n",
    "from keras.callbacks import CSVLogger\n",
    "from livelossplot import PlotLossesKeras\n",
    "from google.colab import drive, files\n",
    "import numpy as np\n",
    "from sklearn.metrics import confusion_matrix, accuracy_score\n",
    "from sklearn import metrics\n",
    "from keras.models import load_model\n",
    "from keras.callbacks import EarlyStopping\n",
    "from mlxtend.plotting import plot_confusion_matrix"
   ]
  },
  {
   "cell_type": "markdown",
   "metadata": {
    "colab_type": "text",
    "id": "DHCg8EXZXY05"
   },
   "source": [
    "### Definindo path a partir do Google Drive"
   ]
  },
  {
   "cell_type": "code",
   "execution_count": null,
   "metadata": {
    "colab": {
     "base_uri": "https://localhost:8080/",
     "height": 122
    },
    "colab_type": "code",
    "executionInfo": {
     "elapsed": 24822,
     "status": "ok",
     "timestamp": 1566839857023,
     "user": {
      "displayName": "Marcos Marques",
      "photoUrl": "https://lh3.googleusercontent.com/a-/AAuE7mCurBzsOLZIJTfDgjKRz23yxar61U0sHo4Rfj-oMA=s64",
      "userId": "13824221139819146299"
     },
     "user_tz": 180
    },
    "id": "jSqeoHN9H0gy",
    "outputId": "0f677c22-8119-4f2a-a2c5-f09a789dc3db"
   },
   "outputs": [],
   "source": [
    "path = \"\"\n",
    "drive.mount('/content/drive/')\n",
    "path = \"/content/drive/My Drive/image_classifier/\"\n",
    "path_to_save_model = path + \"save_model/\" + MODEL_FILE \n",
    "training_data_dir = path + \"dataset/train\"\n",
    "validation_data_dir = path + \"dataset/val\"\n",
    "test_data_dir = path + \"dataset/test\""
   ]
  },
  {
   "cell_type": "markdown",
   "metadata": {
    "colab_type": "text",
    "id": "HUmAqXa3X0t8"
   },
   "source": [
    "### Hyperparâmetros"
   ]
  },
  {
   "cell_type": "code",
   "execution_count": null,
   "metadata": {
    "colab": {},
    "colab_type": "code",
    "id": "Qm16g_VkH_tT"
   },
   "outputs": [],
   "source": [
    "IMAGE_WIDTH, IMAGE_HEIGHT = 200, 200\n",
    "EPOCHS = 100\n",
    "BATCH_SIZE = 32\n",
    "TEST_SIZE = 20\n",
    "\n",
    "input_shape = (IMAGE_WIDTH, IMAGE_HEIGHT, 3)"
   ]
  },
  {
   "cell_type": "markdown",
   "metadata": {
    "colab_type": "text",
    "id": "rVk-UctJX4nq"
   },
   "source": [
    "### Estrutura da Rede"
   ]
  },
  {
   "cell_type": "code",
   "execution_count": null,
   "metadata": {
    "colab": {},
    "colab_type": "code",
    "id": "ls1BcQseIB1T"
   },
   "outputs": [],
   "source": [
    "model = Sequential()\n",
    "\n",
    "model.add(Conv2D(filters=32, kernel_size=3, strides=1, input_shape=input_shape, padding='same', activation='relu'))\n",
    "model.add(Conv2D(filters=32, kernel_size=3, strides=1, padding='same', activation='relu'))\n",
    "model.add(MaxPooling2D(pool_size=(2, 2), data_format='channels_last'))\n",
    "\n",
    "model.add(Conv2D(filters=64, kernel_size=3, strides=1, padding='same', activation='relu'))\n",
    "model.add(Conv2D(filters=64, kernel_size=3, strides=1, padding='same', activation='relu'))\n",
    "model.add(MaxPooling2D(pool_size=(2, 2), data_format='channels_last'))\n",
    "\n",
    "model.add(Conv2D(filters=128, kernel_size=3, strides=1, padding='same', activation='relu'))\n",
    "model.add(Conv2D(filters=128, kernel_size=3, strides=1, padding='same', activation='relu'))\n",
    "model.add(MaxPooling2D(pool_size=(2, 2), data_format='channels_last'))\n",
    "\n",
    "model.add(Conv2D(filters=256, kernel_size=3, strides=1, padding='same', activation='relu'))\n",
    "model.add(Conv2D(filters=256, kernel_size=3, strides=1, padding='same', activation='relu'))\n",
    "model.add(MaxPooling2D(pool_size=(2, 2), data_format='channels_last'))\n",
    "\n",
    "model.add(Flatten())\n",
    "model.add(Dense(256, activation='relu'))\n",
    "model.add(Dropout(0.5))\n",
    "\n",
    "model.add(Dense(256, activation='relu'))\n",
    "model.add(Dropout(0.5))\n",
    "\n",
    "model.add(Dense(3))\n",
    "model.add(Activation('sigmoid'))\n",
    "    \n",
    "model.compile(loss='categorical_crossentropy',\n",
    "            optimizer=RMSprop(lr=0.0001),\n",
    "            metrics=['accuracy'])\n",
    "\n",
    "summary_path = path + MODEL_SUMMARY_FILE\n",
    "with open(summary_path,\"w\") as fh:\n",
    "    model.summary(print_fn=lambda line: fh.write(line + \"\\n\"))"
   ]
  },
  {
   "cell_type": "markdown",
   "metadata": {
    "colab_type": "text",
    "id": "ozrf7OYVYHdp"
   },
   "source": [
    "### Preparando Dados"
   ]
  },
  {
   "cell_type": "code",
   "execution_count": null,
   "metadata": {
    "colab": {
     "base_uri": "https://localhost:8080/",
     "height": 68
    },
    "colab_type": "code",
    "executionInfo": {
     "elapsed": 11174,
     "status": "ok",
     "timestamp": 1566839885575,
     "user": {
      "displayName": "Marcos Marques",
      "photoUrl": "https://lh3.googleusercontent.com/a-/AAuE7mCurBzsOLZIJTfDgjKRz23yxar61U0sHo4Rfj-oMA=s64",
      "userId": "13824221139819146299"
     },
     "user_tz": 180
    },
    "id": "3f-Qf2LvJJ2A",
    "outputId": "0bc4af42-8c55-483d-d27b-add9194a7571"
   },
   "outputs": [],
   "source": [
    "# Aumentando Dados\n",
    "training_data_generator = ImageDataGenerator(\n",
    "    rescale=1./255,\n",
    "    shear_range=0.1,\n",
    "    zoom_range=0.1,\n",
    "    horizontal_flip=True)\n",
    "validation_data_generator = ImageDataGenerator(rescale=1./255)\n",
    "test_data_generator = ImageDataGenerator(rescale=1./255)\n",
    "\n",
    "# Preparando Dados\n",
    "training_generator = training_data_generator.flow_from_directory(\n",
    "    training_data_dir,\n",
    "    target_size=(IMAGE_WIDTH, IMAGE_HEIGHT),\n",
    "    batch_size=BATCH_SIZE,\n",
    "    class_mode=\"categorical\")\n",
    "validation_generator = validation_data_generator.flow_from_directory(\n",
    "    validation_data_dir,\n",
    "    target_size=(IMAGE_WIDTH, IMAGE_HEIGHT),\n",
    "    batch_size=BATCH_SIZE,\n",
    "    class_mode=\"categorical\")\n",
    "test_generator = test_data_generator.flow_from_directory(\n",
    "    test_data_dir,\n",
    "    target_size=(IMAGE_WIDTH, IMAGE_HEIGHT),\n",
    "    batch_size=1,\n",
    "    class_mode=\"categorical\", \n",
    "    shuffle=False)"
   ]
  },
  {
   "cell_type": "markdown",
   "metadata": {
    "colab_type": "text",
    "id": "oNItHHwFYPpo"
   },
   "source": [
    "### Treinando"
   ]
  },
  {
   "cell_type": "code",
   "execution_count": null,
   "metadata": {
    "colab": {
     "base_uri": "https://localhost:8080/",
     "height": 479
    },
    "colab_type": "code",
    "executionInfo": {
     "elapsed": 766,
     "status": "ok",
     "timestamp": 1566566546758,
     "user": {
      "displayName": "Marcos Marques",
      "photoUrl": "https://lh3.googleusercontent.com/a-/AAuE7mCurBzsOLZIJTfDgjKRz23yxar61U0sHo4Rfj-oMA=s64",
      "userId": "13824221139819146299"
     },
     "user_tz": 180
    },
    "id": "GuNiIrRsJZ5b",
    "outputId": "d30b9148-17d3-41ef-e519-9325c2abe3d6"
   },
   "outputs": [],
   "source": [
    "# Configurando o Callbak para salvar quando o loss parar de diminuir\n",
    "early_stopping = EarlyStopping(monitor='val_loss', patience=5)\n",
    "\n",
    "# Criando Path para salvar no diretório do \n",
    "training_logs_path = path + TRAINING_LOGS_FILE\n",
    "\n",
    "# Treinamento\n",
    "model.fit_generator(\n",
    "    training_generator,\n",
    "    steps_per_epoch=len(training_generator.filenames) // BATCH_SIZE,\n",
    "    epochs=EPOCHS,\n",
    "    validation_data=validation_generator,\n",
    "    validation_steps=len(validation_generator.filenames) // BATCH_SIZE,\n",
    "    callbacks=[PlotLossesKeras(), CSVLogger(training_logs_path,\n",
    "                                            append=False,\n",
    "                                            separator=\",\"), early_stopping], \n",
    "    verbose=1)\n",
    "\n",
    "# salvando modelo\n",
    "model.save(path_to_save_model)"
   ]
  },
  {
   "cell_type": "markdown",
   "metadata": {
    "colab_type": "text",
    "id": "kgaypf_fYTaC"
   },
   "source": [
    "### Testando"
   ]
  },
  {
   "cell_type": "code",
   "execution_count": null,
   "metadata": {
    "colab": {},
    "colab_type": "code",
    "id": "sGlEVb0zEvLn",
    "scrolled": true
   },
   "outputs": [],
   "source": [
    "# Carregando Dados de Teste\n",
    "\n",
    "# Veririca a quantidade de classes e retorna y_predict\n",
    "def probas_to_classes(y_pred):\n",
    "    if len(y_pred.shape) > 1 and y_pred.shape[1] > 1:\n",
    "        return categorical_probas_to_classes(y_pred)\n",
    "    return np.array([1 if p > 0.5 else 0 for p in y_pred])\n",
    "  \n",
    "def categorical_probas_to_classes(p):\n",
    "    return np.argmax(p, axis=1)\n",
    "  \n",
    "# -------------------------------------------\n",
    "\n",
    "# Obtem o nome de todos os arquivos de teste\n",
    "filenames = test_generator.filenames\n",
    "\n",
    "# Obtem o total de arquivos de teste\n",
    "nb_samples = len(filenames)\n",
    "\n",
    "# Retorna os valores percentuais preditos pelo modelo para cada classe\n",
    "predict = model.predict_generator(test_generator, steps=nb_samples)\n",
    "\n",
    "# Retorna a maior valor predito\n",
    "y_pred = probas_to_classes(predict)\n",
    "\n",
    "# Retorna o valor real para cada classe\n",
    "y_true = test_generator.classes\n",
    "\n"
   ]
  },
  {
   "cell_type": "markdown",
   "metadata": {
    "colab_type": "text",
    "id": "S233bn2MZAjr"
   },
   "source": [
    "### Imprimindo a predição para cada imagem de teste\n"
   ]
  },
  {
   "cell_type": "code",
   "execution_count": null,
   "metadata": {
    "colab": {},
    "colab_type": "code",
    "id": "ejFjOwjsvsQ4"
   },
   "outputs": [],
   "source": [
    "# Imprime o caminho da imagens o valor real e a predição\n",
    "for ele in list(zip(filenames, y_true, y_pred)):\n",
    "    print(ele)\n",
    "    \n",
    "# Imprime a accuracy final do modelo\n",
    "accuracy = accuracy_score(y_true, y_pred)"
   ]
  },
  {
   "cell_type": "markdown",
   "metadata": {
    "colab_type": "text",
    "id": "fUsfVhnEZN-5"
   },
   "source": [
    "### Matriz de Confusão"
   ]
  },
  {
   "cell_type": "code",
   "execution_count": null,
   "metadata": {
    "colab": {
     "base_uri": "https://localhost:8080/",
     "height": 476
    },
    "colab_type": "code",
    "executionInfo": {
     "elapsed": 2262,
     "status": "ok",
     "timestamp": 1566842508352,
     "user": {
      "displayName": "Marcos Marques",
      "photoUrl": "https://lh3.googleusercontent.com/a-/AAuE7mCurBzsOLZIJTfDgjKRz23yxar61U0sHo4Rfj-oMA=s64",
      "userId": "13824221139819146299"
     },
     "user_tz": 180
    },
    "id": "m_O9g6_AuGFS",
    "outputId": "73ff8a96-6e33-458c-c6e7-b6a8ac0bf170"
   },
   "outputs": [],
   "source": [
    "class_names = list(test_generator.class_indices.keys())\n",
    "c_matrix = confusion_matrix(y_true, y_pred)\n",
    "classes = [''] + class_names\n",
    "\n",
    "fig, ax = plot_confusion_matrix(conf_mat=c_matrix,\n",
    "                                colorbar=True,\n",
    "                                figsize=(8,8),\n",
    "                                cmap='GnBu',\n",
    "                                show_absolute=False,\n",
    "                                show_normed=True)\n",
    "\n",
    "\n",
    "ax.xaxis.set_ticklabels(classes, fontsize=12); \n",
    "ax.yaxis.set_ticklabels(classes, fontsize=12);\n",
    "ax.set_title('Confusion Matrix', fontsize=16);\n",
    "\n",
    "\n",
    "plt.show();"
   ]
  }
 ],
 "metadata": {
  "accelerator": "GPU",
  "colab": {
   "collapsed_sections": [],
   "name": "image_classifier.ipynb",
   "provenance": [],
   "toc_visible": true,
   "version": "0.3.2"
  },
  "kernelspec": {
   "display_name": "Python 3",
   "language": "python",
   "name": "python3"
  },
  "language_info": {
   "codemirror_mode": {
    "name": "ipython",
    "version": 3
   },
   "file_extension": ".py",
   "mimetype": "text/x-python",
   "name": "python",
   "nbconvert_exporter": "python",
   "pygments_lexer": "ipython3",
   "version": "3.6.8"
  }
 },
 "nbformat": 4,
 "nbformat_minor": 4
}
